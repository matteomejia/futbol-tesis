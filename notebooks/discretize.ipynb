{
 "cells": [
  {
   "cell_type": "code",
   "execution_count": 1,
   "metadata": {},
   "outputs": [],
   "source": [
    "import pandas as pd"
   ]
  },
  {
   "cell_type": "code",
   "execution_count": 2,
   "metadata": {},
   "outputs": [],
   "source": [
    "initial_dataset: pd.DataFrame = pd.read_csv(\"../data/dataset_initial.csv\", index_col=0)\n",
    "initial_dataset[\"match_api_id\"] = initial_dataset[\"match_api_id\"].apply(lambda x: int(x))"
   ]
  },
  {
   "cell_type": "code",
   "execution_count": 3,
   "metadata": {},
   "outputs": [],
   "source": [
    "categorical_columns = initial_dataset.loc[:, initial_dataset.columns.str.contains('Class', case=True)].columns"
   ]
  },
  {
   "cell_type": "code",
   "execution_count": 4,
   "metadata": {},
   "outputs": [
    {
     "name": "stderr",
     "output_type": "stream",
     "text": [
      "/tmp/ipykernel_2159/1368524594.py:3: UserWarning: Boolean Series key will be reindexed to match DataFrame index.\n",
      "  tmp_dataset = tmp_dataset[initial_dataset[col] != '0']\n"
     ]
    }
   ],
   "source": [
    "tmp_dataset = initial_dataset\n",
    "for col in categorical_columns:\n",
    "    tmp_dataset = tmp_dataset[initial_dataset[col] != '0']\n",
    "\n",
    "encoded_dataset = tmp_dataset\n",
    "for col in categorical_columns:\n",
    "    col_encoded = pd.get_dummies(encoded_dataset[col], prefix=col)\n",
    "    encoded_dataset = pd.concat((encoded_dataset, col_encoded), axis=1).drop(col, axis=1)"
   ]
  },
  {
   "cell_type": "code",
   "execution_count": 5,
   "metadata": {},
   "outputs": [],
   "source": [
    "from sklearn.preprocessing import LabelEncoder\n",
    "le = LabelEncoder()\n",
    "le.fit(encoded_dataset[\"label\"])\n",
    "encoded_labels = le.transform(encoded_dataset[\"label\"])"
   ]
  },
  {
   "cell_type": "code",
   "execution_count": 7,
   "metadata": {},
   "outputs": [],
   "source": [
    "encoded_dataset['label'] = encoded_labels\n",
    "encoded_dataset.to_csv(\"../data/dataset_encoded.csv\")"
   ]
  }
 ],
 "metadata": {
  "kernelspec": {
   "display_name": "Python 3.9.5 ('.venv': poetry)",
   "language": "python",
   "name": "python3"
  },
  "language_info": {
   "codemirror_mode": {
    "name": "ipython",
    "version": 3
   },
   "file_extension": ".py",
   "mimetype": "text/x-python",
   "name": "python",
   "nbconvert_exporter": "python",
   "pygments_lexer": "ipython3",
   "version": "3.9.5"
  },
  "orig_nbformat": 4,
  "vscode": {
   "interpreter": {
    "hash": "7580895227c0491ec5c9407a90a3ff5d42e283347e453daaf9967c78b2bf2b58"
   }
  }
 },
 "nbformat": 4,
 "nbformat_minor": 2
}
