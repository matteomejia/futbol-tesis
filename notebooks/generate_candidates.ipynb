{
 "cells": [
  {
   "cell_type": "code",
   "execution_count": 1,
   "metadata": {},
   "outputs": [],
   "source": [
    "import pandas as pd"
   ]
  },
  {
   "cell_type": "code",
   "execution_count": 2,
   "metadata": {},
   "outputs": [],
   "source": [
    "# cargar el dataset\n",
    "dataset = pd.read_csv(\"../data/dataset_encoded.csv\", index_col=0)"
   ]
  },
  {
   "cell_type": "code",
   "execution_count": 3,
   "metadata": {},
   "outputs": [],
   "source": [
    "# conjuntos de columnas para feature selection\n",
    "goals_1 = ['home_team_goals', 'home_team_goals_conceided', 'away_team_goals', 'away_team_goals_conceided']\n",
    "goals_2 = ['home_team_goals_difference', 'away_team_goals_difference']\n",
    "\n",
    "team_1 = [\n",
    "    'home_team_buildUpPlaySpeed', \n",
    "    'home_team_buildUpPlayPassing', \n",
    "    'home_team_chanceCreationPassing', \n",
    "    'home_team_chanceCreationCrossing', \n",
    "    'home_team_chanceCreationShooting', \n",
    "    'home_team_defencePressure', \n",
    "    'home_team_defenceAggression', \n",
    "    'home_team_defenceTeamWidth', \n",
    "    'away_team_buildUpPlaySpeed', \n",
    "    'away_team_buildUpPlayPassing', \n",
    "    'away_team_chanceCreationPassing', \n",
    "    'away_team_chanceCreationCrossing', \n",
    "    'away_team_chanceCreationShooting', \n",
    "    'away_team_defencePressure', \n",
    "    'away_team_defenceAggression', \n",
    "    'away_team_defenceTeamWidth'\n",
    "]\n",
    "team_2 = list(dataset.loc[:, dataset.columns.str.contains('Class', case=True)].columns)"
   ]
  },
  {
   "cell_type": "code",
   "execution_count": 4,
   "metadata": {},
   "outputs": [],
   "source": [
    "# columnas a borrar de cada conjunto\n",
    "x1_cols_drop = goals_2 + team_2\n",
    "x2_cols_drop = goals_1 + team_2\n",
    "x3_cols_drop = goals_2 + team_1\n",
    "x4_cols_drop = goals_1 + team_1"
   ]
  },
  {
   "cell_type": "code",
   "execution_count": 5,
   "metadata": {},
   "outputs": [],
   "source": [
    "# conjuntos de datos a generar\n",
    "x1 = dataset.drop(x1_cols_drop, axis=1)\n",
    "x2 = dataset.drop(x2_cols_drop, axis=1)\n",
    "x3 = dataset.drop(x3_cols_drop, axis=1)\n",
    "x4 = dataset.drop(x4_cols_drop, axis=1)\n",
    "x5 = dataset"
   ]
  },
  {
   "cell_type": "code",
   "execution_count": 7,
   "metadata": {},
   "outputs": [],
   "source": [
    "# guardar datasets\n",
    "x1.to_csv(\"../datasets/x1.csv\")\n",
    "x2.to_csv(\"../datasets/x2.csv\")\n",
    "x3.to_csv(\"../datasets/x3.csv\")\n",
    "x4.to_csv(\"../datasets/x4.csv\")\n",
    "x5.to_csv(\"../datasets/x5.csv\")"
   ]
  }
 ],
 "metadata": {
  "kernelspec": {
   "display_name": "Python 3.9.5 ('.venv': poetry)",
   "language": "python",
   "name": "python3"
  },
  "language_info": {
   "codemirror_mode": {
    "name": "ipython",
    "version": 3
   },
   "file_extension": ".py",
   "mimetype": "text/x-python",
   "name": "python",
   "nbconvert_exporter": "python",
   "pygments_lexer": "ipython3",
   "version": "3.9.5"
  },
  "orig_nbformat": 4,
  "vscode": {
   "interpreter": {
    "hash": "7580895227c0491ec5c9407a90a3ff5d42e283347e453daaf9967c78b2bf2b58"
   }
  }
 },
 "nbformat": 4,
 "nbformat_minor": 2
}
